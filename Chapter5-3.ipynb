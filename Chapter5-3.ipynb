{
  "cells": [
    {
      "cell_type": "markdown",
      "metadata": {
        "id": "zp6fW8MP-mrO"
      },
      "source": [
        "## 5-3 트리의 앙상블"
      ]
    },
    {
      "cell_type": "markdown",
      "metadata": {
        "id": "dIaIAizcRSG-"
      },
      "source": [
        "### 랜덤포레스트"
      ]
    },
    {
      "cell_type": "code",
      "execution_count": 1,
      "metadata": {
        "id": "ioJUlZ0M_uSZ"
      },
      "outputs": [],
      "source": [
        "import numpy as np\n",
        "import pandas as pd\n",
        "from sklearn.model_selection import train_test_split\n",
        "\n",
        "wine = pd.read_csv('https://bit.ly/wine_csv_data')\n",
        "\n",
        "data = wine[['alcohol', 'sugar', 'pH']].to_numpy()\n",
        "target = wine['class'].to_numpy()\n",
        "\n",
        "train_input, test_input, train_target, test_target = train_test_split(data, target, test_size=0.2, random_state=42)"
      ]
    },
    {
      "cell_type": "code",
      "execution_count": 2,
      "metadata": {
        "colab": {
          "base_uri": "https://localhost:8080/"
        },
        "id": "JDKQudr7_8nu",
        "outputId": "b6625aa7-2118-4543-bdcd-d678e84576e3"
      },
      "outputs": [
        {
          "name": "stdout",
          "output_type": "stream",
          "text": [
            "0.9973541965122431 0.8905151032797809\n"
          ]
        }
      ],
      "source": [
        "from sklearn.model_selection import cross_validate\n",
        "from sklearn.ensemble import RandomForestClassifier\n",
        "\n",
        "rf = RandomForestClassifier(n_jobs=-1, random_state=42)\n",
        "scores = cross_validate(rf, train_input, train_target, return_train_score=True, n_jobs=-1)\n",
        "\n",
        "print(np.mean(scores['train_score']), np.mean(scores['test_score']))"
      ]
    },
    {
      "cell_type": "code",
      "execution_count": 3,
      "metadata": {
        "colab": {
          "base_uri": "https://localhost:8080/"
        },
        "id": "XYDbzXNLG8fK",
        "outputId": "17bddd3a-4de6-41c8-9135-af164b021f55"
      },
      "outputs": [
        {
          "name": "stdout",
          "output_type": "stream",
          "text": [
            "[0.23167441 0.50039841 0.26792718]\n"
          ]
        }
      ],
      "source": [
        "rf.fit(train_input, train_target)\n",
        "print(rf.feature_importances_)"
      ]
    },
    {
      "cell_type": "code",
      "execution_count": 4,
      "metadata": {
        "colab": {
          "base_uri": "https://localhost:8080/"
        },
        "id": "oMc06S1Fa_A-",
        "outputId": "dea1c2c9-c2cd-452e-f3d9-a24b678f02d5"
      },
      "outputs": [
        {
          "name": "stdout",
          "output_type": "stream",
          "text": [
            "0.8934000384837406\n"
          ]
        }
      ],
      "source": [
        "rf = RandomForestClassifier(oob_score=True, n_jobs=-1, random_state=42)\n",
        "\n",
        "rf.fit(train_input, train_target)\n",
        "print(rf.oob_score_)"
      ]
    },
    {
      "cell_type": "markdown",
      "metadata": {
        "id": "KdrVoeQZRU14"
      },
      "source": [
        "### 엑스트라트리"
      ]
    },
    {
      "cell_type": "code",
      "execution_count": 5,
      "metadata": {
        "colab": {
          "base_uri": "https://localhost:8080/"
        },
        "id": "noMLdywdOGrE",
        "outputId": "07e18f2b-bb89-46fe-cec2-bf2f43f111b0"
      },
      "outputs": [
        {
          "name": "stdout",
          "output_type": "stream",
          "text": [
            "0.9974503966084433 0.8887848893166506\n"
          ]
        }
      ],
      "source": [
        "from sklearn.ensemble import ExtraTreesClassifier\n",
        "\n",
        "et = ExtraTreesClassifier(n_jobs=-1, random_state=42)\n",
        "scores = cross_validate(et, train_input, train_target, return_train_score=True, n_jobs=-1)\n",
        "\n",
        "print(np.mean(scores['train_score']), np.mean(scores['test_score']))"
      ]
    },
    {
      "cell_type": "code",
      "execution_count": 6,
      "metadata": {
        "colab": {
          "base_uri": "https://localhost:8080/"
        },
        "id": "HnB0_mBqfcXL",
        "outputId": "d4fde47e-766d-484a-b1a4-a982db8ccbb0"
      },
      "outputs": [
        {
          "name": "stdout",
          "output_type": "stream",
          "text": [
            "[0.20183568 0.52242907 0.27573525]\n"
          ]
        }
      ],
      "source": [
        "et.fit(train_input, train_target)\n",
        "print(et.feature_importances_)"
      ]
    },
    {
      "cell_type": "markdown",
      "metadata": {
        "id": "csKxnaxeRX8s"
      },
      "source": [
        "### 그레이디언트 부스팅"
      ]
    },
    {
      "cell_type": "code",
      "execution_count": 7,
      "metadata": {
        "colab": {
          "base_uri": "https://localhost:8080/"
        },
        "id": "_IlNEFkaNsoG",
        "outputId": "9b4b36e3-5b1c-412e-e6c1-d039c389f3e5"
      },
      "outputs": [
        {
          "name": "stdout",
          "output_type": "stream",
          "text": [
            "0.8881086892152563 0.8720430147331015\n"
          ]
        }
      ],
      "source": [
        "from sklearn.ensemble import GradientBoostingClassifier\n",
        "\n",
        "gb = GradientBoostingClassifier(random_state=42)\n",
        "scores = cross_validate(gb, train_input, train_target, return_train_score=True, n_jobs=-1)\n",
        "\n",
        "print(np.mean(scores['train_score']), np.mean(scores['test_score']))"
      ]
    },
    {
      "cell_type": "code",
      "execution_count": 8,
      "metadata": {
        "colab": {
          "base_uri": "https://localhost:8080/"
        },
        "id": "pNpeS8EWpeEi",
        "outputId": "69f7971c-5011-4b03-a867-4284cb3336d5"
      },
      "outputs": [
        {
          "name": "stdout",
          "output_type": "stream",
          "text": [
            "0.9464595437171814 0.8780082549788999\n"
          ]
        }
      ],
      "source": [
        "gb = GradientBoostingClassifier(n_estimators=500, learning_rate=0.2, random_state=42)\n",
        "scores = cross_validate(gb, train_input, train_target, return_train_score=True, n_jobs=-1)\n",
        "\n",
        "print(np.mean(scores['train_score']), np.mean(scores['test_score']))"
      ]
    },
    {
      "cell_type": "code",
      "execution_count": 9,
      "metadata": {
        "colab": {
          "base_uri": "https://localhost:8080/"
        },
        "id": "qD6iWVsGqCAE",
        "outputId": "175b9cf4-5c19-45d4-a622-d84f1f8baa40"
      },
      "outputs": [
        {
          "name": "stdout",
          "output_type": "stream",
          "text": [
            "[0.15872278 0.68011572 0.16116151]\n"
          ]
        }
      ],
      "source": [
        "gb.fit(train_input, train_target)\n",
        "print(gb.feature_importances_)"
      ]
    },
    {
      "cell_type": "markdown",
      "metadata": {
        "id": "BthW_II9RbLa"
      },
      "source": [
        "### 히스토그램 기반 부스팅"
      ]
    },
    {
      "cell_type": "code",
      "execution_count": 10,
      "metadata": {
        "colab": {
          "base_uri": "https://localhost:8080/"
        },
        "id": "_3Ct_NNWQbdA",
        "outputId": "2bccc04e-09d7-407a-95bb-9314b3b1ae23"
      },
      "outputs": [
        {
          "name": "stdout",
          "output_type": "stream",
          "text": [
            "0.9321723946453317 0.8801241948619236\n"
          ]
        }
      ],
      "source": [
        "# 사이킷런 1.0 버전 아래에서는 다음 라인의 주석을 해제하고 실행하세요.\n",
        "# from sklearn.experimental import enable_hist_gradient_boosting\n",
        "from sklearn.ensemble import HistGradientBoostingClassifier\n",
        "\n",
        "hgb = HistGradientBoostingClassifier(random_state=42)\n",
        "scores = cross_validate(hgb, train_input, train_target, return_train_score=True, n_jobs=-1)\n",
        "\n",
        "print(np.mean(scores['train_score']), np.mean(scores['test_score']))"
      ]
    },
    {
      "cell_type": "code",
      "execution_count": 11,
      "metadata": {
        "colab": {
          "base_uri": "https://localhost:8080/"
        },
        "id": "TvlB0GMTS3hn",
        "outputId": "2b446a17-5593-4f19-bc59-4b9a4d908379"
      },
      "outputs": [
        {
          "name": "stdout",
          "output_type": "stream",
          "text": [
            "[0.08876275 0.23438522 0.08027708]\n"
          ]
        }
      ],
      "source": [
        "from sklearn.inspection import permutation_importance\n",
        "\n",
        "hgb.fit(train_input, train_target)\n",
        "result = permutation_importance(hgb, train_input, train_target, n_repeats=10,\n",
        "                                random_state=42, n_jobs=-1)\n",
        "print(result.importances_mean)"
      ]
    },
    {
      "cell_type": "code",
      "execution_count": 12,
      "metadata": {
        "colab": {
          "base_uri": "https://localhost:8080/"
        },
        "id": "S8FfxInn-xBQ",
        "outputId": "cd18c70e-7555-4a4b-80cc-1af876e63304"
      },
      "outputs": [
        {
          "name": "stdout",
          "output_type": "stream",
          "text": [
            "[0.05969231 0.20238462 0.049     ]\n"
          ]
        }
      ],
      "source": [
        "result = permutation_importance(hgb, test_input, test_target, n_repeats=10,\n",
        "                                random_state=42, n_jobs=-1)\n",
        "print(result.importances_mean)"
      ]
    },
    {
      "cell_type": "code",
      "execution_count": 13,
      "metadata": {
        "colab": {
          "base_uri": "https://localhost:8080/"
        },
        "id": "pqplZjh0j2nw",
        "outputId": "3d6d6d84-c29e-4110-849a-a8c2b4c3033f"
      },
      "outputs": [
        {
          "data": {
            "text/plain": [
              "0.8723076923076923"
            ]
          },
          "execution_count": 13,
          "metadata": {},
          "output_type": "execute_result"
        }
      ],
      "source": [
        "hgb.score(test_input, test_target)"
      ]
    },
    {
      "cell_type": "markdown",
      "metadata": {
        "id": "8fz_FrezBezR"
      },
      "source": [
        "#### XGBoost"
      ]
    },
    {
      "cell_type": "code",
      "execution_count": 15,
      "metadata": {},
      "outputs": [
        {
          "name": "stdout",
          "output_type": "stream",
          "text": [
            "Collecting xgboost\n",
            "  Downloading xgboost-3.0.5-py3-none-win_amd64.whl.metadata (2.1 kB)\n",
            "Collecting lightgbm\n",
            "  Downloading lightgbm-4.6.0-py3-none-win_amd64.whl.metadata (17 kB)\n",
            "Requirement already satisfied: numpy in c:\\users\\tmdtn\\anaconda3\\lib\\site-packages (from xgboost) (1.26.4)\n",
            "Requirement already satisfied: scipy in c:\\users\\tmdtn\\anaconda3\\lib\\site-packages (from xgboost) (1.11.4)\n",
            "Downloading xgboost-3.0.5-py3-none-win_amd64.whl (56.8 MB)\n",
            "   ---------------------------------------- 0.0/56.8 MB ? eta -:--:--\n",
            "   ---------------------------------------- 0.0/56.8 MB ? eta -:--:--\n",
            "   ---------------------------------------- 0.3/56.8 MB 3.2 MB/s eta 0:00:18\n",
            "    --------------------------------------- 0.7/56.8 MB 5.7 MB/s eta 0:00:10\n",
            "    --------------------------------------- 1.1/56.8 MB 6.5 MB/s eta 0:00:09\n",
            "   - -------------------------------------- 1.6/56.8 MB 7.3 MB/s eta 0:00:08\n",
            "   - -------------------------------------- 2.2/56.8 MB 8.3 MB/s eta 0:00:07\n",
            "   - -------------------------------------- 2.8/56.8 MB 8.8 MB/s eta 0:00:07\n",
            "   -- ------------------------------------- 3.2/56.8 MB 9.0 MB/s eta 0:00:06\n",
            "   -- ------------------------------------- 3.8/56.8 MB 9.3 MB/s eta 0:00:06\n",
            "   --- ------------------------------------ 4.3/56.8 MB 9.5 MB/s eta 0:00:06\n",
            "   --- ------------------------------------ 4.8/56.8 MB 9.5 MB/s eta 0:00:06\n",
            "   --- ------------------------------------ 5.4/56.8 MB 9.9 MB/s eta 0:00:06\n",
            "   --- ------------------------------------ 5.5/56.8 MB 10.1 MB/s eta 0:00:06\n",
            "   ---- ----------------------------------- 5.9/56.8 MB 9.2 MB/s eta 0:00:06\n",
            "   ---- ----------------------------------- 6.5/56.8 MB 9.4 MB/s eta 0:00:06\n",
            "   ---- ----------------------------------- 7.0/56.8 MB 9.7 MB/s eta 0:00:06\n",
            "   ----- ---------------------------------- 7.5/56.8 MB 9.6 MB/s eta 0:00:06\n",
            "   ----- ---------------------------------- 7.9/56.8 MB 9.7 MB/s eta 0:00:06\n",
            "   ----- ---------------------------------- 8.4/56.8 MB 9.8 MB/s eta 0:00:05\n",
            "   ------ --------------------------------- 8.9/56.8 MB 9.9 MB/s eta 0:00:05\n",
            "   ------ --------------------------------- 9.5/56.8 MB 10.0 MB/s eta 0:00:05\n",
            "   ------- -------------------------------- 10.1/56.8 MB 10.0 MB/s eta 0:00:05\n",
            "   ------- -------------------------------- 10.5/56.8 MB 10.6 MB/s eta 0:00:05\n",
            "   ------- -------------------------------- 11.0/56.8 MB 10.7 MB/s eta 0:00:05\n",
            "   -------- ------------------------------- 11.5/56.8 MB 10.7 MB/s eta 0:00:05\n",
            "   -------- ------------------------------- 11.9/56.8 MB 10.6 MB/s eta 0:00:05\n",
            "   -------- ------------------------------- 12.5/56.8 MB 10.6 MB/s eta 0:00:05\n",
            "   --------- ------------------------------ 13.0/56.8 MB 10.6 MB/s eta 0:00:05\n",
            "   --------- ------------------------------ 13.5/56.8 MB 10.6 MB/s eta 0:00:05\n",
            "   --------- ------------------------------ 14.1/56.8 MB 10.6 MB/s eta 0:00:05\n",
            "   ---------- ----------------------------- 14.6/56.8 MB 10.6 MB/s eta 0:00:04\n",
            "   ---------- ----------------------------- 15.2/56.8 MB 10.6 MB/s eta 0:00:04\n",
            "   ----------- ---------------------------- 15.7/56.8 MB 10.6 MB/s eta 0:00:04\n",
            "   ----------- ---------------------------- 16.2/56.8 MB 11.1 MB/s eta 0:00:04\n",
            "   ----------- ---------------------------- 16.6/56.8 MB 10.9 MB/s eta 0:00:04\n",
            "   ------------ --------------------------- 17.1/56.8 MB 10.9 MB/s eta 0:00:04\n",
            "   ------------ --------------------------- 17.7/56.8 MB 10.9 MB/s eta 0:00:04\n",
            "   ------------ --------------------------- 18.2/56.8 MB 11.1 MB/s eta 0:00:04\n",
            "   ------------- -------------------------- 18.7/56.8 MB 11.1 MB/s eta 0:00:04\n",
            "   ------------- -------------------------- 19.2/56.8 MB 10.9 MB/s eta 0:00:04\n",
            "   ------------- -------------------------- 19.7/56.8 MB 10.9 MB/s eta 0:00:04\n",
            "   -------------- ------------------------- 20.3/56.8 MB 11.1 MB/s eta 0:00:04\n",
            "   -------------- ------------------------- 20.8/56.8 MB 11.3 MB/s eta 0:00:04\n",
            "   --------------- ------------------------ 21.3/56.8 MB 11.3 MB/s eta 0:00:04\n",
            "   --------------- ------------------------ 21.9/56.8 MB 11.3 MB/s eta 0:00:04\n",
            "   --------------- ------------------------ 22.4/56.8 MB 11.3 MB/s eta 0:00:04\n",
            "   --------------- ------------------------ 22.7/56.8 MB 11.1 MB/s eta 0:00:04\n",
            "   ---------------- ----------------------- 23.1/56.8 MB 10.9 MB/s eta 0:00:04\n",
            "   ---------------- ----------------------- 23.4/56.8 MB 10.7 MB/s eta 0:00:04\n",
            "   ---------------- ----------------------- 23.7/56.8 MB 10.6 MB/s eta 0:00:04\n",
            "   ---------------- ----------------------- 23.8/56.8 MB 10.1 MB/s eta 0:00:04\n",
            "   ---------------- ----------------------- 24.0/56.8 MB 9.8 MB/s eta 0:00:04\n",
            "   ---------------- ----------------------- 24.1/56.8 MB 9.5 MB/s eta 0:00:04\n",
            "   ----------------- ---------------------- 24.2/56.8 MB 9.2 MB/s eta 0:00:04\n",
            "   ----------------- ---------------------- 24.4/56.8 MB 9.0 MB/s eta 0:00:04\n",
            "   ----------------- ---------------------- 24.6/56.8 MB 8.6 MB/s eta 0:00:04\n",
            "   ----------------- ---------------------- 24.8/56.8 MB 8.5 MB/s eta 0:00:04\n",
            "   ----------------- ---------------------- 25.0/56.8 MB 8.3 MB/s eta 0:00:04\n",
            "   ----------------- ---------------------- 25.2/56.8 MB 8.2 MB/s eta 0:00:04\n",
            "   ----------------- ---------------------- 25.5/56.8 MB 8.1 MB/s eta 0:00:04\n",
            "   ------------------ --------------------- 25.8/56.8 MB 7.9 MB/s eta 0:00:04\n",
            "   ------------------ --------------------- 26.1/56.8 MB 7.8 MB/s eta 0:00:04\n",
            "   ------------------ --------------------- 26.4/56.8 MB 7.6 MB/s eta 0:00:05\n",
            "   ------------------ --------------------- 26.6/56.8 MB 7.6 MB/s eta 0:00:04\n",
            "   ------------------ --------------------- 27.0/56.8 MB 7.5 MB/s eta 0:00:04\n",
            "   ------------------- -------------------- 27.3/56.8 MB 7.4 MB/s eta 0:00:04\n",
            "   ------------------- -------------------- 27.6/56.8 MB 7.3 MB/s eta 0:00:05\n",
            "   ------------------- -------------------- 28.0/56.8 MB 7.2 MB/s eta 0:00:05\n",
            "   -------------------- ------------------- 28.4/56.8 MB 7.2 MB/s eta 0:00:04\n",
            "   -------------------- ------------------- 28.8/56.8 MB 7.1 MB/s eta 0:00:04\n",
            "   -------------------- ------------------- 29.1/56.8 MB 7.0 MB/s eta 0:00:04\n",
            "   -------------------- ------------------- 29.5/56.8 MB 7.0 MB/s eta 0:00:04\n",
            "   -------------------- ------------------- 29.7/56.8 MB 6.8 MB/s eta 0:00:04\n",
            "   --------------------- ------------------ 29.8/56.8 MB 6.7 MB/s eta 0:00:05\n",
            "   --------------------- ------------------ 30.1/56.8 MB 6.5 MB/s eta 0:00:05\n",
            "   --------------------- ------------------ 30.4/56.8 MB 6.5 MB/s eta 0:00:05\n",
            "   --------------------- ------------------ 30.7/56.8 MB 6.4 MB/s eta 0:00:05\n",
            "   --------------------- ------------------ 30.9/56.8 MB 6.3 MB/s eta 0:00:05\n",
            "   --------------------- ------------------ 31.0/56.8 MB 6.2 MB/s eta 0:00:05\n",
            "   --------------------- ------------------ 31.2/56.8 MB 6.1 MB/s eta 0:00:05\n",
            "   ---------------------- ----------------- 31.3/56.8 MB 6.0 MB/s eta 0:00:05\n",
            "   ---------------------- ----------------- 31.4/56.8 MB 5.8 MB/s eta 0:00:05\n",
            "   ---------------------- ----------------- 31.5/56.8 MB 5.7 MB/s eta 0:00:05\n",
            "   ---------------------- ----------------- 31.6/56.8 MB 5.6 MB/s eta 0:00:05\n",
            "   ---------------------- ----------------- 31.7/56.8 MB 5.5 MB/s eta 0:00:05\n",
            "   ---------------------- ----------------- 31.9/56.8 MB 5.4 MB/s eta 0:00:05\n",
            "   ---------------------- ----------------- 32.1/56.8 MB 5.3 MB/s eta 0:00:05\n",
            "   ---------------------- ----------------- 32.3/56.8 MB 5.2 MB/s eta 0:00:05\n",
            "   ---------------------- ----------------- 32.5/56.8 MB 5.2 MB/s eta 0:00:05\n",
            "   ---------------------- ----------------- 32.6/56.8 MB 5.1 MB/s eta 0:00:05\n",
            "   ----------------------- ---------------- 32.7/56.8 MB 5.0 MB/s eta 0:00:05\n",
            "   ----------------------- ---------------- 32.9/56.8 MB 4.9 MB/s eta 0:00:05\n",
            "   ----------------------- ---------------- 33.1/56.8 MB 4.9 MB/s eta 0:00:05\n",
            "   ----------------------- ---------------- 33.3/56.8 MB 4.8 MB/s eta 0:00:05\n",
            "   ----------------------- ---------------- 33.5/56.8 MB 4.8 MB/s eta 0:00:05\n",
            "   ----------------------- ---------------- 33.8/56.8 MB 4.8 MB/s eta 0:00:05\n",
            "   ----------------------- ---------------- 34.1/56.8 MB 4.8 MB/s eta 0:00:05\n",
            "   ------------------------ --------------- 34.4/56.8 MB 5.0 MB/s eta 0:00:05\n",
            "   ------------------------ --------------- 34.7/56.8 MB 5.1 MB/s eta 0:00:05\n",
            "   ------------------------ --------------- 35.0/56.8 MB 5.2 MB/s eta 0:00:05\n",
            "   ------------------------ --------------- 35.4/56.8 MB 5.2 MB/s eta 0:00:05\n",
            "   ------------------------- -------------- 35.7/56.8 MB 5.3 MB/s eta 0:00:05\n",
            "   ------------------------- -------------- 36.0/56.8 MB 5.3 MB/s eta 0:00:04\n",
            "   ------------------------- -------------- 36.2/56.8 MB 5.2 MB/s eta 0:00:04\n",
            "   ------------------------- -------------- 36.5/56.8 MB 5.3 MB/s eta 0:00:04\n",
            "   ------------------------- -------------- 36.8/56.8 MB 5.3 MB/s eta 0:00:04\n",
            "   -------------------------- ------------- 37.0/56.8 MB 5.2 MB/s eta 0:00:04\n",
            "   -------------------------- ------------- 37.2/56.8 MB 5.2 MB/s eta 0:00:04\n",
            "   -------------------------- ------------- 37.5/56.8 MB 5.2 MB/s eta 0:00:04\n",
            "   -------------------------- ------------- 37.7/56.8 MB 5.1 MB/s eta 0:00:04\n",
            "   -------------------------- ------------- 37.9/56.8 MB 5.1 MB/s eta 0:00:04\n",
            "   -------------------------- ------------- 38.1/56.8 MB 5.0 MB/s eta 0:00:04\n",
            "   -------------------------- ------------- 38.3/56.8 MB 5.0 MB/s eta 0:00:04\n",
            "   --------------------------- ------------ 38.5/56.8 MB 4.9 MB/s eta 0:00:04\n",
            "   --------------------------- ------------ 38.6/56.8 MB 4.8 MB/s eta 0:00:04\n",
            "   --------------------------- ------------ 38.9/56.8 MB 4.7 MB/s eta 0:00:04\n",
            "   --------------------------- ------------ 39.1/56.8 MB 4.7 MB/s eta 0:00:04\n",
            "   --------------------------- ------------ 39.3/56.8 MB 4.7 MB/s eta 0:00:04\n",
            "   --------------------------- ------------ 39.6/56.8 MB 4.7 MB/s eta 0:00:04\n",
            "   ---------------------------- ----------- 39.8/56.8 MB 4.7 MB/s eta 0:00:04\n",
            "   ---------------------------- ----------- 40.1/56.8 MB 4.7 MB/s eta 0:00:04\n",
            "   ---------------------------- ----------- 40.4/56.8 MB 4.7 MB/s eta 0:00:04\n",
            "   ---------------------------- ----------- 40.8/56.8 MB 4.7 MB/s eta 0:00:04\n",
            "   ---------------------------- ----------- 41.0/56.8 MB 4.8 MB/s eta 0:00:04\n",
            "   ----------------------------- ---------- 41.2/56.8 MB 4.8 MB/s eta 0:00:04\n",
            "   ----------------------------- ---------- 41.5/56.8 MB 4.9 MB/s eta 0:00:04\n",
            "   ----------------------------- ---------- 41.8/56.8 MB 5.2 MB/s eta 0:00:03\n",
            "   ----------------------------- ---------- 42.1/56.8 MB 5.3 MB/s eta 0:00:03\n",
            "   ----------------------------- ---------- 42.4/56.8 MB 5.3 MB/s eta 0:00:03\n",
            "   ------------------------------ --------- 42.7/56.8 MB 5.4 MB/s eta 0:00:03\n",
            "   ------------------------------ --------- 43.0/56.8 MB 5.5 MB/s eta 0:00:03\n",
            "   ------------------------------ --------- 43.3/56.8 MB 5.7 MB/s eta 0:00:03\n",
            "   ------------------------------ --------- 43.6/56.8 MB 5.7 MB/s eta 0:00:03\n",
            "   ------------------------------ --------- 44.0/56.8 MB 5.8 MB/s eta 0:00:03\n",
            "   ------------------------------- -------- 44.4/56.8 MB 5.8 MB/s eta 0:00:03\n",
            "   ------------------------------- -------- 44.8/56.8 MB 5.9 MB/s eta 0:00:03\n",
            "   ------------------------------- -------- 45.2/56.8 MB 6.0 MB/s eta 0:00:02\n",
            "   -------------------------------- ------- 45.6/56.8 MB 6.0 MB/s eta 0:00:02\n",
            "   -------------------------------- ------- 46.1/56.8 MB 6.1 MB/s eta 0:00:02\n",
            "   -------------------------------- ------- 46.5/56.8 MB 6.2 MB/s eta 0:00:02\n",
            "   --------------------------------- ------ 47.0/56.8 MB 6.4 MB/s eta 0:00:02\n",
            "   --------------------------------- ------ 47.5/56.8 MB 6.6 MB/s eta 0:00:02\n",
            "   --------------------------------- ------ 48.0/56.8 MB 6.8 MB/s eta 0:00:02\n",
            "   ---------------------------------- ----- 48.4/56.8 MB 7.1 MB/s eta 0:00:02\n",
            "   ---------------------------------- ----- 48.9/56.8 MB 7.4 MB/s eta 0:00:02\n",
            "   ---------------------------------- ----- 49.4/56.8 MB 7.8 MB/s eta 0:00:01\n",
            "   ----------------------------------- ---- 49.8/56.8 MB 8.0 MB/s eta 0:00:01\n",
            "   ----------------------------------- ---- 50.4/56.8 MB 8.3 MB/s eta 0:00:01\n",
            "   ----------------------------------- ---- 50.7/56.8 MB 8.3 MB/s eta 0:00:01\n",
            "   ------------------------------------ --- 51.3/56.8 MB 8.6 MB/s eta 0:00:01\n",
            "   ------------------------------------ --- 51.8/56.8 MB 9.0 MB/s eta 0:00:01\n",
            "   ------------------------------------ --- 52.2/56.8 MB 9.2 MB/s eta 0:00:01\n",
            "   ------------------------------------- -- 52.8/56.8 MB 9.4 MB/s eta 0:00:01\n",
            "   ------------------------------------- -- 53.2/56.8 MB 9.6 MB/s eta 0:00:01\n",
            "   ------------------------------------- -- 53.7/56.8 MB 9.8 MB/s eta 0:00:01\n",
            "   -------------------------------------- - 54.2/56.8 MB 10.1 MB/s eta 0:00:01\n",
            "   -------------------------------------- - 54.7/56.8 MB 10.4 MB/s eta 0:00:01\n",
            "   -------------------------------------- - 55.2/56.8 MB 10.4 MB/s eta 0:00:01\n",
            "   ---------------------------------------  55.7/56.8 MB 10.6 MB/s eta 0:00:01\n",
            "   ---------------------------------------  56.1/56.8 MB 10.4 MB/s eta 0:00:01\n",
            "   ---------------------------------------  56.5/56.8 MB 10.4 MB/s eta 0:00:01\n",
            "   ---------------------------------------  56.8/56.8 MB 10.4 MB/s eta 0:00:01\n",
            "   ---------------------------------------  56.8/56.8 MB 10.4 MB/s eta 0:00:01\n",
            "   ---------------------------------------  56.8/56.8 MB 10.4 MB/s eta 0:00:01\n",
            "   ---------------------------------------- 56.8/56.8 MB 9.2 MB/s eta 0:00:00\n",
            "Downloading lightgbm-4.6.0-py3-none-win_amd64.whl (1.5 MB)\n",
            "   ---------------------------------------- 0.0/1.5 MB ? eta -:--:--\n",
            "   ---------- ----------------------------- 0.4/1.5 MB 7.6 MB/s eta 0:00:01\n",
            "   ---------------------- ----------------- 0.8/1.5 MB 8.7 MB/s eta 0:00:01\n",
            "   ------------------------------------ --- 1.3/1.5 MB 9.2 MB/s eta 0:00:01\n",
            "   ---------------------------------------- 1.5/1.5 MB 8.4 MB/s eta 0:00:00\n",
            "Installing collected packages: xgboost, lightgbm\n",
            "Successfully installed lightgbm-4.6.0 xgboost-3.0.5\n",
            "Note: you may need to restart the kernel to use updated packages.\n"
          ]
        }
      ],
      "source": [
        "%pip install xgboost lightgbm"
      ]
    },
    {
      "cell_type": "code",
      "execution_count": 16,
      "metadata": {
        "colab": {
          "base_uri": "https://localhost:8080/"
        },
        "id": "YBYLvOiV6rga",
        "outputId": "a9ad7740-5d4c-48a8-c714-2d6eacfdb20b"
      },
      "outputs": [
        {
          "name": "stdout",
          "output_type": "stream",
          "text": [
            "0.9567059184812372 0.8783915747390243\n"
          ]
        }
      ],
      "source": [
        "from xgboost import XGBClassifier\n",
        "\n",
        "xgb = XGBClassifier(tree_method='hist', random_state=42)\n",
        "scores = cross_validate(xgb, train_input, train_target, return_train_score=True, n_jobs=-1)\n",
        "\n",
        "print(np.mean(scores['train_score']), np.mean(scores['test_score']))"
      ]
    },
    {
      "cell_type": "markdown",
      "metadata": {
        "id": "zl6nh6DOBd-B"
      },
      "source": [
        "#### LightGBM"
      ]
    },
    {
      "cell_type": "code",
      "execution_count": 17,
      "metadata": {
        "colab": {
          "base_uri": "https://localhost:8080/"
        },
        "id": "maihlDMP7lmY",
        "outputId": "19176c46-8abe-41d7-d6a2-11e9ade8ae9c"
      },
      "outputs": [
        {
          "name": "stdout",
          "output_type": "stream",
          "text": [
            "0.935828414851749 0.8801251203079884\n"
          ]
        }
      ],
      "source": [
        "from lightgbm import LGBMClassifier\n",
        "\n",
        "lgb = LGBMClassifier(random_state=42)\n",
        "scores = cross_validate(lgb, train_input, train_target, return_train_score=True, n_jobs=-1)\n",
        "\n",
        "print(np.mean(scores['train_score']), np.mean(scores['test_score']))"
      ]
    }
  ],
  "metadata": {
    "colab": {
      "name": "5-3 트리의 앙상블.ipynb",
      "provenance": []
    },
    "kernelspec": {
      "display_name": "base",
      "language": "python",
      "name": "python3"
    },
    "language_info": {
      "codemirror_mode": {
        "name": "ipython",
        "version": 3
      },
      "file_extension": ".py",
      "mimetype": "text/x-python",
      "name": "python",
      "nbconvert_exporter": "python",
      "pygments_lexer": "ipython3",
      "version": "3.11.7"
    }
  },
  "nbformat": 4,
  "nbformat_minor": 0
}
